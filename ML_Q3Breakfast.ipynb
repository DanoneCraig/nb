{
  "nbformat": 4,
  "nbformat_minor": 0,
  "metadata": {
    "colab": {
      "name": "ML@Q3Breakfast.ipynb",
      "version": "0.3.2",
      "provenance": [],
      "collapsed_sections": []
    },
    "kernelspec": {
      "name": "python3",
      "display_name": "Python 3"
    }
  },
  "cells": [
    {
      "cell_type": "markdown",
      "metadata": {
        "id": "anEMO1UVcjSu",
        "colab_type": "text"
      },
      "source": [
        "# Machine Learning @Danone\n",
        "\n",
        "![Learning](https://miro.medium.com/max/2760/1*1zgWFU3ZIYbmhlCUwiMmLw.png)"
      ]
    },
    {
      "cell_type": "markdown",
      "metadata": {
        "id": "BK7pgNQtsQCk",
        "colab_type": "text"
      },
      "source": [
        "# What is Machine Learning ?\n",
        "AI vs Machine Learning vs Deep Learning\n",
        "\n",
        "## Data Science\n",
        "\n",
        "![DataScience](https://d2h0cx97tjks2p.cloudfront.net/blogs/wp-content/uploads/sites/2/2019/03/What-is-Data-Science.jpg)"
      ]
    },
    {
      "cell_type": "markdown",
      "metadata": {
        "id": "P5otFZuI2boD",
        "colab_type": "text"
      },
      "source": [
        "# The 5 Questions of Machine Learning"
      ]
    },
    {
      "cell_type": "markdown",
      "metadata": {
        "id": "HicSqsOq2bbf",
        "colab_type": "text"
      },
      "source": [
        "## Classification algorithms: Is this A or B?\n",
        "\n",
        "![Classification algorithms: Is this A or B?](https://docs.microsoft.com/en-us/azure/machine-learning/studio/media/data-science-for-beginners-the-5-questions-data-science-answers/classification-algorithms.png)\n",
        "\n",
        "Examples of Two-class Classification. Is this A or B?\n",
        "* Will this tire fail in the next 1,000 miles: Yes or no?\n",
        "* Which brings in more customers: a $5 coupon or a 25% discount?\n",
        "* Multiclass classification : Is this A or B or C or D, etc.?\n",
        "(chooses the most likely one)"
      ]
    },
    {
      "cell_type": "markdown",
      "metadata": {
        "id": "ZDZJJzpT2mNj",
        "colab_type": "text"
      },
      "source": [
        "## Anomaly Detection algorithms: Is this weird?\n",
        "\n",
        "![Anomaly Detection algorithms: Is this weird?](https://docs.microsoft.com/en-us/azure/machine-learning/studio/media/data-science-for-beginners-the-5-questions-data-science-answers/anomaly-detection-algorithms.png)\n",
        "\n",
        "Examples of Anomaly Detection: Is this weird? \n",
        "* Credit card company analyzes your purchase patterns\n",
        "* Is this pressure gauge reading normal?\n",
        "* Is this spam?\n",
        "\n"
      ]
    },
    {
      "cell_type": "markdown",
      "metadata": {
        "id": "2_W2V0vn2mCs",
        "colab_type": "text"
      },
      "source": [
        "## Regression algorithms: How much? or How many?\n",
        "\n",
        "![Regression algorithms: How much? or How many?](https://docs.microsoft.com/en-us/azure/machine-learning/studio/media/data-science-for-beginners-the-5-questions-data-science-answers/regression-algorithms.png)\n",
        "\n",
        "Examples of questions for Regression predictions:\n",
        "* What will the temperature be next Tuesday?\n",
        "* What will my fourth quarter sales be?\n"
      ]
    },
    {
      "cell_type": "markdown",
      "metadata": {
        "id": "GREOxKnJ2l2C",
        "colab_type": "text"
      },
      "source": [
        "## Clustering algorithms: How is this organized?\n",
        "\n",
        "![Clustering algorithms: How is this organized?](https://docs.microsoft.com/en-us/azure/machine-learning/studio/media/data-science-for-beginners-the-5-questions-data-science-answers/clustering-algorithms.png)\n",
        "\n",
        "Examples of clustering questions:\n",
        "* Which viewers like the same types of movies?\n",
        "* Which printer models fail the same way?"
      ]
    },
    {
      "cell_type": "markdown",
      "metadata": {
        "id": "f2Fv3oUMzoaK",
        "colab_type": "text"
      },
      "source": [
        "## Reinforcement Learning algorithms: What should I do next?\n",
        "\n",
        "![Reinforcement Learning algorithms: What should I do next?](https://docs.microsoft.com/en-us/azure/machine-learning/studio/media/data-science-for-beginners-the-5-questions-data-science-answers/reinforcement-learning-algorithms.png)\n",
        "\n",
        "Reinforcement learning was inspired by how the brains of rats and humans respond to punishment and rewards. These algorithms learn from outcomes, and decide on the next action.\n",
        "\n",
        "Questions it answers are always about what action should be taken - usually by a machine or a robot. Examples are:\n",
        "* Temperature control system: Adjust the temperature or leave it where it is?\n",
        "* Self-driving car: At a yellow light, brake or accelerate?\n",
        "* Robot vacuum: Keep vacuuming, or go back to the charging station?\n",
        "  \n",
        "  \n",
        "    \n"
      ]
    },
    {
      "cell_type": "markdown",
      "metadata": {
        "id": "MrNiqyeBxWHW",
        "colab_type": "text"
      },
      "source": [
        "# The Machine Learning pipeline\n",
        "\n",
        "![Azure AutoML](https://docs.microsoft.com/en-us/azure/machine-learning/service/media/concept-ml-pipelines/pipeline-flow.png)\n",
        "\n",
        "* Data Collection\n",
        "* Data Preprocessing *(80% data scientist time is cleaning data)*\n",
        "* Select machine learning model (suitable for current project / problem)\n",
        "* Training the model\n",
        "* Testing the model\n",
        "* Optimise the parameters of the model\n",
        "* Retesting the model\n",
        "* Reporting results"
      ]
    },
    {
      "cell_type": "markdown",
      "metadata": {
        "id": "U9q_B-XAftwD",
        "colab_type": "text"
      },
      "source": [
        "![Gartner 2019 Hype Cycle for Emerging Technologies](https://miro.medium.com/max/1224/0*33attjubQ3xiv_Ym.png)\n",
        "\n"
      ]
    },
    {
      "cell_type": "markdown",
      "metadata": {
        "id": "SktI1vgMGwcb",
        "colab_type": "text"
      },
      "source": [
        "## [Tensorflow hello world](https://codelabs.developers.google.com/codelabs/tensorflow-lab1-helloworld/#0)\n",
        "\n",
        "**Traditional Programming** \n",
        "You express rules in a programming language. These act on data and your program provides answers\n",
        "![0](https://codelabs.developers.google.com/codelabs/tensorflow-lab1-helloworld/img/c72f871306134e45.png)\n",
        "**Machine Learning** provide the answers (typically called labels) along with the data, and the machine will infer the rules \n",
        "![1](https://codelabs.developers.google.com/codelabs/tensorflow-lab1-helloworld/img/53ff9e2cb511936e.png)\n",
        "Our **Model** is trained with answers eg. \"That data looks like walking\", \"That data looks like biking\" etc.\n",
        "![2](https://codelabs.developers.google.com/codelabs/tensorflow-lab1-helloworld/img/693430bb4d7fa001.png)\n",
        "![3](https://codelabs.developers.google.com/codelabs/tensorflow-lab1-helloworld/img/6ff58697a85931f4.png)"
      ]
    },
    {
      "cell_type": "markdown",
      "metadata": {
        "id": "gZQRqpZh9bBU",
        "colab_type": "text"
      },
      "source": [
        "# Image Recognition\n",
        "![Pretrained models - Facebook AI](https://s3-ap-south-1.amazonaws.com/av-blog-media/wp-content/uploads/2018/07/1WyTv5S6b8fmOG6aBrZyiHw-768x482.jpeg)"
      ]
    },
    {
      "cell_type": "markdown",
      "metadata": {
        "id": "sZinGfLR9pfo",
        "colab_type": "text"
      },
      "source": [
        "## **Vendors**\n",
        "* Microsoft Azure [Cognitive Services](https://azure.microsoft.com/en-us/services/cognitive-services/) \n",
        "* [Amazon Sagemaker Neo](https://aws.amazon.com/sagemaker/neo/) Train models once, run anywhere with up to 2x performance improvement\n",
        "* [Facebook AI](https://ai.facebook.com/)\n",
        "* [IBM Research](https://www.research.ibm.com/artificial-intelligence/)\n",
        "* [Cloud AI / Google Cloud](https://cloud.google.com/products/ai/)\n",
        "\n",
        "## **Github**\n",
        "* [Github - machine-learning](https://github.com/collections/machine-learning)\n",
        "\n",
        "\n",
        "## **Jupyter Notbooks**\n",
        "* [colab.research.google.com](https://colab.research.google.com/notebooks) interactive Notebook\n",
        "\n",
        "*   [notebooks.azure.com - azureml-getting-started](https://notebooks.azure.com/azureml/projects/azureml-getting-started)\n",
        "\n",
        "*   [github.com/jupyter/notebook](https://github.com/jupyter/notebook)\n",
        "*[JupyterHub](https://zero-to-jupyterhub.readthedocs.io/en/latest/index.html#customization-guide)\n",
        "* [BinderHub](https://binderhub.readthedocs.io/en/latest/) uses a JupyterHub running on Kubernetes \n",
        "* [how-to-use-azureml ..with-onnx.ipynb](https://github.com/Azure/MachineLearningNotebooks/blob/master/how-to-use-azureml/automated-machine-learning/classification-with-onnx/auto-ml-classification-with-onnx.ipynb)\n",
        "\n",
        "* [nbviewer](https://nbviewer.jupyter.org) render Jupyter Notebooks as web pages\n",
        "* [Rock-Paper-Scissors.ipynb](https://nbviewer.jupyter.org/github/lmoroney/io19/blob/master/Zero%20to%20Hero/Rock-Paper-Scissors.ipynb) in nbviewer\n",
        "\n",
        "## **Libraries**\n",
        "* [TensorFlow](https://www.tensorflow.org/overview/), a powerful and flexible machine learning library for Javascript\n",
        "* [Keras: The Python Deep Learning library\n",
        "](https://keras.io/)\n",
        "* [Auto-Keras](https://github.com/keras-team/autokeras/blob/master/README.md) is an open source software library for automated machine learning (AutoML)\n",
        "* [scikit-learn](https://scikit-learn.org/stable/tutorial/index.html)\n",
        "* [auto-sklearn](https://automl.github.io/auto-sklearn/master/) is an automated machine learning toolkit\n",
        "* [TPOT your Data Science Assistant](https://github.com/EpistasisLab/tpot/blob/master/README.md) is a Python Automated Machine Learning tool\n",
        "* [Cloud AutoML](https://cloud.google.com/automl/) Google's AutoML\n",
        "* [Azure Pipelines](https://azure.microsoft.com/en-us/services/devops/pipelines/)\n",
        "\n",
        "\n",
        "## **Pretrained Models**\n",
        "\n",
        "* [MobileNets](https://arxiv.org/pdf/1704.04861.pdf) Efficient Convolutional Neural Networks for Mobile Vision\n",
        "Applications\n",
        "\n",
        "![Mobilenet](https://s3-ap-south-1.amazonaws.com/av-blog-media/wp-content/uploads/2018/06/MobileNet.png)\n",
        "\n",
        "* Car Classification\n",
        "\n",
        "![Car Classification](https://s3-ap-south-1.amazonaws.com/av-blog-media/wp-content/uploads/2018/06/Stanford-Cars-850x295.png)\n",
        "\n"
      ]
    },
    {
      "cell_type": "markdown",
      "metadata": {
        "id": "dignMmYimVlL",
        "colab_type": "text"
      },
      "source": [
        "# Types of classification algorithms in Machine Learning\n",
        "\n",
        "* Linear Classifiers: Logistic Regression, Naive Bayes Classifier\n",
        "* Nearest Neighbor\n",
        "* Support Vector Machines\n",
        "* Decision Trees\n",
        "* Boosted Trees\n",
        "* Random Forest\n",
        "* Neural Networks"
      ]
    },
    {
      "cell_type": "markdown",
      "metadata": {
        "id": "qRQUfG08KG4F",
        "colab_type": "text"
      },
      "source": [
        "## Neural Networks\n",
        "\n",
        "* [videos by 3blue1brown](https://www.youtube.com/playlist?list=PLZHQObOWTQDNU6R1_67000Dx_ZCJB-3pi)\n",
        "\n",
        "\n",
        "![Neural Networks](https://images.squarespace-cdn.com/content/v1/54f63048e4b0a47e92eb5234/1517604240896-GUX6XKI30MBWL5ZQUNHX/ke17ZwdGBToddI8pDm48kDA9UfGS920QcZiQVf3uC6t7gQa3H78H3Y0txjaiv_0fDoOvxcdMmMKkDsyUqMSsMWxHk725yiiHCCLfrh8O1z5QPOohDIaIeljMHgDF5CVlOqpeNLcJ80NK65_fV7S1UaoN7tuo2ZMvE78tEBBXOrDsR-eBglSWIA73WsXaonI1ZDqXZYzu2fuaodM4POSZ4w/NerualNetworkPlaylistThumbnail.png?format=750w)\n",
        "\n",
        "\n",
        "\n",
        "\n"
      ]
    },
    {
      "cell_type": "markdown",
      "metadata": {
        "id": "Ia1GL8Xhd_bp",
        "colab_type": "text"
      },
      "source": [
        "## [Visual intro to ML](http://www.r2d3.us/visual-intro-to-machine-learning-part-1/)\n",
        "very nice page animating machine learning components\n"
      ]
    },
    {
      "cell_type": "markdown",
      "metadata": {
        "id": "DGRumJwAOsc5",
        "colab_type": "text"
      },
      "source": [
        "# AUTOML\n",
        "Automated Machine Learning "
      ]
    },
    {
      "cell_type": "markdown",
      "metadata": {
        "id": "mAdgj0Sfe0e1",
        "colab_type": "text"
      },
      "source": [
        "## Azure Machine Learning service\n",
        "Explore and prepare data, train and test models, and deploy them using rich tools such as:\n",
        "\n",
        "* A visual interface in which you can drag-n-drop modules to build your experiments and then deploy models\n",
        "* **Jupyter notebooks** in which you use the SDKs to write your own code, such as these sample notebooks\n",
        "* Visual Studio Code extension\n",
        "\n",
        "\n",
        "[Azure ML azureml-getting-started](https://notebooks.azure.com/azureml/projects/azureml-getting-started) (Azure Intro with Experiments)\n"
      ]
    },
    {
      "cell_type": "markdown",
      "metadata": {
        "id": "4_fH8v0TcuSc",
        "colab_type": "text"
      },
      "source": [
        "## Azure FACE\n",
        "1. Detect and compare human faces\n",
        "2. Organize images into groups based on similarities\n",
        "3. Identify previously tagged people in images\n",
        "4. Run locally on-premises or in the clouds\n",
        "\n",
        "https://azure.microsoft.com/en-us/services/cognitive-services/face/\n",
        "\n",
        "* copy Key and Endpoint"
      ]
    },
    {
      "cell_type": "markdown",
      "metadata": {
        "id": "oc3cHUKsc7mZ",
        "colab_type": "text"
      },
      "source": [
        "Unfortunately [...didnt work on this character](http://www.itc-packaging.co.uk/files/images/hambrosio-2-1545-med.jpg)\n",
        "\n",
        "however lets look at the [Innovation Team](https://scontent-waw1-1.xx.fbcdn.net/v/t1.0-9/69706275_1089404414782466_1505786607372861440_o.jpg?_nc_cat=102&_nc_oc=AQlBqNrksMDmM_LtJIGgJh3BPSmUGJJlU-ySyeLg3heI53PddD3MZ6o0VDA-eHrZxs0&_nc_ht=scontent-waw1-1.xx&oh=285319fd14759759f14641350909fe8a&oe=5DC85B52)\n"
      ]
    },
    {
      "cell_type": "code",
      "metadata": {
        "id": "e57V4KI5cxGu",
        "colab_type": "code",
        "outputId": "2c11898d-208a-4a9f-dde8-24f5c1748640",
        "colab": {
          "base_uri": "https://localhost:8080/",
          "height": 55
        }
      },
      "source": [
        "import requests\n",
        "import json\n",
        "\n",
        "subscription_key = '91e52f665c2e457e9457801053053f1f'\n",
        "assert subscription_key\n",
        "\n",
        "face_api_url = 'https://mlface.cognitiveservices.azure.com/face/v1.0/detect'\n",
        "\n",
        "# image_url = 'http://www.itc-packaging.co.uk/files/images/hambrosio-2-1545-med.jpg'\n",
        "image_url = 'https://scontent-waw1-1.xx.fbcdn.net/v/t1.0-9/69706275_1089404414782466_1505786607372861440_o.jpg?_nc_cat=102&_nc_oc=AQlBqNrksMDmM_LtJIGgJh3BPSmUGJJlU-ySyeLg3heI53PddD3MZ6o0VDA-eHrZxs0&_nc_ht=scontent-waw1-1.xx&oh=285319fd14759759f14641350909fe8a&oe=5DC85B52'\n",
        "\n",
        "headers = {'Ocp-Apim-Subscription-Key': subscription_key}\n",
        "\n",
        "params = {\n",
        "    'returnFaceId': 'true',\n",
        "    'returnFaceLandmarks': 'false',\n",
        "    'returnFaceAttributes': 'age,gender,headPose,smile,facialHair,glasses,emotion,hair,makeup,occlusion,accessories,blur,exposure,noise',\n",
        "}\n",
        "\n",
        "response = requests.post(face_api_url, params=params,\n",
        "                         headers=headers, json={\"url\": image_url})\n",
        "\n",
        "print(json.dumps(response.json()))"
      ],
      "execution_count": 0,
      "outputs": [
        {
          "output_type": "stream",
          "text": [
            "[{\"faceId\": \"85861777-4f50-4df7-8ada-825cea89026b\", \"faceRectangle\": {\"top\": 171, \"left\": 981, \"width\": 357, \"height\": 357}, \"faceAttributes\": {\"smile\": 1.0, \"headPose\": {\"pitch\": 1.5, \"roll\": 7.7, \"yaw\": -8.6}, \"gender\": \"female\", \"age\": 25.0, \"facialHair\": {\"moustache\": 0.0, \"beard\": 0.0, \"sideburns\": 0.0}, \"glasses\": \"NoGlasses\", \"emotion\": {\"anger\": 0.0, \"contempt\": 0.0, \"disgust\": 0.0, \"fear\": 0.0, \"happiness\": 1.0, \"neutral\": 0.0, \"sadness\": 0.0, \"surprise\": 0.0}, \"blur\": {\"blurLevel\": \"medium\", \"value\": 0.39}, \"exposure\": {\"exposureLevel\": \"goodExposure\", \"value\": 0.61}, \"noise\": {\"noiseLevel\": \"low\", \"value\": 0.0}, \"makeup\": {\"eyeMakeup\": true, \"lipMakeup\": true}, \"accessories\": [], \"occlusion\": {\"foreheadOccluded\": false, \"eyeOccluded\": false, \"mouthOccluded\": false}, \"hair\": {\"bald\": 0.09, \"invisible\": false, \"hairColor\": [{\"color\": \"blond\", \"confidence\": 0.96}, {\"color\": \"red\", \"confidence\": 0.51}, {\"color\": \"other\", \"confidence\": 0.48}, {\"color\": \"brown\", \"confidence\": 0.47}, {\"color\": \"gray\", \"confidence\": 0.28}, {\"color\": \"black\", \"confidence\": 0.1}]}}}, {\"faceId\": \"11e3a7b7-20e5-42f4-b13a-2b4808141c87\", \"faceRectangle\": {\"top\": 270, \"left\": 132, \"width\": 316, \"height\": 316}, \"faceAttributes\": {\"smile\": 1.0, \"headPose\": {\"pitch\": 11.5, \"roll\": 27.0, \"yaw\": 5.1}, \"gender\": \"male\", \"age\": 21.0, \"facialHair\": {\"moustache\": 0.1, \"beard\": 0.1, \"sideburns\": 0.1}, \"glasses\": \"ReadingGlasses\", \"emotion\": {\"anger\": 0.0, \"contempt\": 0.0, \"disgust\": 0.0, \"fear\": 0.0, \"happiness\": 1.0, \"neutral\": 0.0, \"sadness\": 0.0, \"surprise\": 0.0}, \"blur\": {\"blurLevel\": \"medium\", \"value\": 0.51}, \"exposure\": {\"exposureLevel\": \"goodExposure\", \"value\": 0.65}, \"noise\": {\"noiseLevel\": \"medium\", \"value\": 0.45}, \"makeup\": {\"eyeMakeup\": false, \"lipMakeup\": false}, \"accessories\": [{\"type\": \"glasses\", \"confidence\": 0.99}], \"occlusion\": {\"foreheadOccluded\": false, \"eyeOccluded\": false, \"mouthOccluded\": false}, \"hair\": {\"bald\": 0.14, \"invisible\": false, \"hairColor\": [{\"color\": \"black\", \"confidence\": 0.95}, {\"color\": \"other\", \"confidence\": 0.67}, {\"color\": \"brown\", \"confidence\": 0.48}, {\"color\": \"gray\", \"confidence\": 0.38}, {\"color\": \"blond\", \"confidence\": 0.18}, {\"color\": \"red\", \"confidence\": 0.16}]}}}]\n"
          ],
          "name": "stdout"
        }
      ]
    },
    {
      "cell_type": "code",
      "metadata": {
        "id": "Z37XWfCJ573d",
        "colab_type": "code",
        "colab": {}
      },
      "source": [
        ""
      ],
      "execution_count": 0,
      "outputs": []
    },
    {
      "cell_type": "markdown",
      "metadata": {
        "id": "Av4ayVfOfa7H",
        "colab_type": "text"
      },
      "source": [
        "![Inno Team](https://scontent-waw1-1.xx.fbcdn.net/v/t1.0-9/69706275_1089404414782466_1505786607372861440_o.jpg?_nc_cat=102&_nc_oc=AQlBqNrksMDmM_LtJIGgJh3BPSmUGJJlU-ySyeLg3heI53PddD3MZ6o0VDA-eHrZxs0&_nc_ht=scontent-waw1-1.xx&oh=285319fd14759759f14641350909fe8a&oe=5DC85B52)"
      ]
    },
    {
      "cell_type": "markdown",
      "metadata": {
        "id": "Mzji9-Xrq9_U",
        "colab_type": "text"
      },
      "source": [
        "## [Jennifer PETIT](https://danone.facebook.com/profile.php?id=100038948213233&__tn__=%2Cd%2AF%2AF-R&eid=ARDecL-YOSKMtBp_nOcdh8-iU2p8lDoZ05YLdrwsjFI0XtdHsFnLJ944CdB9UVsIGfNHUfIwLZdYJgxe&tn-str=%2AF)\n",
        "Community manager & communication for DAN'IS Innovation \n",
        "\n",
        "```\n",
        "  \"faceId\": \"b8c2c9f9-f868-41a7-8a86-0fd50d4f17ab\", \n",
        "\t\"faceRectangle\": {\"top\": 171, \"left\": 981, \"width\": 357, \"height\": 357}, \n",
        "\t\"faceAttributes\": {\n",
        "\t\t\"smile\": 1.0, \n",
        "\t\t\"headPose\": {\"pitch\": 1.5, \"roll\": 7.7, \"yaw\": -8.6}, \n",
        "\t\t\"gender\": \"female\", \n",
        "\t\t\"age\": 25.0, \n",
        "\t\t\"glasses\": \"NoGlasses\", \n",
        "\t\t\"emotion\": {\"happiness\": 1.0,}, \n",
        "\t\t\"makeup\": {\"eyeMakeup\": true, \"lipMakeup\": true}, \n",
        "\t\t\"hair\": {\n",
        "\t\t\t\"hairColor\": [\n",
        "\t\t\t\t{\"color\": \"blond\", \"confidence\": 0.96}, \n",
        "\t\t\t\t{\"color\": \"red\", \"confidence\": 0.51}, \n",
        "\t\t\t\t{\"color\": \"other\", \"confidence\": 0.48}, \n",
        "\t\t\t\t{\"color\": \"brown\", \"confidence\": 0.47}, \n",
        "\t\t\t\t{\"color\": \"gray\", \"confidence\": 0.28}, \n",
        "\t\t\t\t{\"color\": \"black\", \"confidence\": 0.1}\n",
        "\t\t\t\t]\n",
        "\t\t\t}\n",
        "\n",
        "```"
      ]
    },
    {
      "cell_type": "markdown",
      "metadata": {
        "colab_type": "text",
        "id": "H4j9gDrnrjR5"
      },
      "source": [
        "## [Fahd EL MAZOUNI](https://danone.facebook.com/profile.php?id=100039703120998)\n",
        "as developer & inno project manager (including [IdeaLab](https://l.facebook.com/l.php?u=https%3A%2F%2Fidealab-danone.yoomap.fr%2Fhome&h=AT2yKliWfM8WtF4N7ufgVnRPTt64P9jVxPGzDgI8ljvXLwDqv76r1FiD4PlR5rQQR1FcN_bWGFclCXALakFy93spTQsa7OMooPv9lBDoX0b5qv45d9_q6rzh5srE4VfmcqrrJZ5SBgqdmEzMQ7Ga2w) support)\n",
        "  \n",
        "```  \n",
        "  \"faceId\": \"2609189b-c70a-4108-8377-a97fcdd74bde\", \n",
        "\t\"faceRectangle\": {\"top\": 270, \"left\": 132, \"width\": 316, \"height\": 316}, \n",
        "\t\"faceAttributes\": {\n",
        "\t\t\"smile\": 1.0, \n",
        "\t\t\"headPose\": {\"pitch\": 11.5, \"roll\": 27.0, \"yaw\": 5.1}, \n",
        "\t\t\"gender\": \"male\", \n",
        "\t\t\"age\": 21.0, \n",
        "\t\t\"facialHair\": {\"moustache\": 0.1, \"beard\": 0.1, \"sideburns\": 0.1}, \n",
        "\t\t\"glasses\": \"ReadingGlasses\", \n",
        "\t\t\"emotion\": {\"happiness\": 1.0, }, \n",
        "\t\t\"makeup\": {\"eyeMakeup\": false, \"lipMakeup\": false}, \n",
        "\t\t\"accessories\": [{\"type\": \"glasses\", \"confidence\": 0.99}], \n",
        "\t\t\"hair\": {\n",
        "\t\t\t\"bald\": 0.14, \n",
        "\t\t\t\"hairColor\": [\n",
        "\t\t\t\t{\"color\": \"black\", \"confidence\": 0.95}, \n",
        "\t\t\t\t{\"color\": \"other\", \"confidence\": 0.67}, \n",
        "\t\t\t\t{\"color\": \"brown\", \"confidence\": 0.48}, \n",
        "\t\t\t\t{\"color\": \"gray\", \"confidence\": 0.38}, \n",
        "\t\t\t\t{\"color\": \"blond\", \"confidence\": 0.18}, \n",
        "\t\t\t\t{\"color\": \"red\", \"confidence\": 0.16}\n",
        "\t\t\t\t]\n",
        "\t\t\t} \n",
        "```"
      ]
    },
    {
      "cell_type": "markdown",
      "metadata": {
        "id": "Fpb2kA69VbZl",
        "colab_type": "text"
      },
      "source": [
        "# What about common standards?\n",
        "* saving your model ?\n",
        "* using your model on another vendor / platform / framework ?"
      ]
    },
    {
      "cell_type": "markdown",
      "metadata": {
        "id": "bHn9nG6mLk24",
        "colab_type": "text"
      },
      "source": [
        "## [ONNX.ai](https://onnx.ai)\n",
        "\n",
        "* community project created by Facebook and Microsoft\n",
        "* ONNX is an open format to represent deep learning models.  \n",
        "* ONNX is developed and supported by a community of partners.\n",
        "![ONNX](http://onnx.ai/assets/ONNX_partnerlogos_Bigger_082019.png)\n",
        "\n",
        "\n"
      ]
    },
    {
      "cell_type": "markdown",
      "metadata": {
        "id": "udD-bHt5n78M",
        "colab_type": "text"
      },
      "source": [
        "## Azure AI Gallery\n",
        "\n",
        "![Azure ](https://docs.microsoft.com/en-us/azure/machine-learning/service/media/how-to-automated-ml/automl-concept-diagram2.png)"
      ]
    },
    {
      "cell_type": "markdown",
      "metadata": {
        "id": "2dn0IoxGTB7I",
        "colab_type": "text"
      },
      "source": [
        "## [facebook artificial intelligence](https://ai.facebook.com/research)\n",
        "\n",
        "* **Computer Vision** Understanding the visual world around us\n",
        "\n",
        "* **Conversational AI** Creating personalized and meaningful interactions\n",
        "\n",
        "* **Integrity** Building AI solutions to keep people safe on social platforms\n",
        "\n",
        "* **Natural Language Processing** Next generation text understanding and generation\n",
        "\n",
        "* **Ranking & Recommendations** Connecting people to what's most meaningful\n",
        "\n",
        "* **Systems Research** Developing novel algorithmic, software, and hardware techniques\n",
        "\n",
        "* **Theory** Laying foundations for artificial intelligence\n",
        "\n",
        "* **Speech & Audio** Powering voice interfaces and audio content understanding\n",
        "\n",
        "* **Human & Machine Intelligence** Building algorithms inspired by, and compatible with, human cognition\n",
        "\n",
        "* **Additional Areas** Reinforcement learning, robotics, graphics, and more coming soon"
      ]
    },
    {
      "cell_type": "markdown",
      "metadata": {
        "id": "WsFuu2iUnbeK",
        "colab_type": "text"
      },
      "source": [
        "# Workshop Session \n",
        "\n",
        "## ML in retail and consumer goods\n",
        "improve service and provide benefits of optimization, automation and scale\n",
        "\n",
        "* Inventory optimization through SKU assortment + machine learning ensure shelves are stocked and best products are always available for purchase.\n",
        "* Recommendation Engine - Train Matchbox Recommender to modernize engine capabilities for relevant product and service offerings which can generate incremental revenue.\n",
        "* Visual Search capitalizes on mobile-first, content rich, customer-centric search capabilities.\n",
        "* Sentiment Analysis can help companies improve their products and services by better understanding how their offering impact customers.\n",
        "* Fraud Detection to detect anomalies and other errors that signal dishonest behavior.\n",
        "* Demand forecasting by pricing optimization to meet consumer demand related by creating a demand forecast at various price points and business constraints to maximize potential profit.\n",
        "* Personalized offers improve the customer experience by offering relevant information which in turn provides retailers with improved data about the customer’s brand engagement.\n",
        "* Customer Churn Prediction to improve strategic decision making regarding customer engagement and lifetime value.\n",
        "\n",
        "## [Azure AI Gallery](https://gallery.azure.ai/)\n",
        "AI and ML algorithms and use cases for them - and linked experiments\n",
        "* [Retail](https://gallery.azure.ai/industries/retail)\n",
        "* [Manufacturing](https://gallery.azure.ai/industries/manufacturing)\n",
        "* [Banking](https://gallery.azure.ai/industries/banking)\n",
        "* [Healthcare](https://gallery.azure.ai/industries/healthcare)\n",
        "\n",
        "\n"
      ]
    },
    {
      "cell_type": "markdown",
      "metadata": {
        "id": "9j2oZw8GwtVS",
        "colab_type": "text"
      },
      "source": [
        "## [Idea Lab](https://idealab-danone.yoomap.fr/home?page=/page/idea-user)\n",
        "\n",
        "![IdeaLab](https://scontent-waw1-1.xx.fbcdn.net/v/t1.0-9/36624623_206549723514114_8800329109797339136_o.jpg?_nc_cat=110&_nc_oc=AQnDpr99MQbOaN6x7TewKpnJxFe0d32mxYF5zab48V2YJonF4AJBEsuKrkiq8e7_EbM&_nc_ht=scontent-waw1-1.xx&oh=1113e98491ce1807aeeaa1bcf50b442a&oe=5DFFF85C)\n",
        "\n",
        "## Let's take an interactive tour\n",
        "Artificial Intelligence in 61 of 196 Ideas (as of Sept 2019)\n",
        "\n",
        "IdeaLab Gates\n",
        "* #0 - New idea\n",
        "* #1 - Value proposal validated\n",
        "* #2 - Desirability validated\n",
        "* #3 - Feasibility validated\n",
        "![3](https://scontent-waw1-1.xx.fbcdn.net/v/t1.0-9/70386202_673924399764639_4937470922895392768_o.jpg?_nc_cat=111&_nc_oc=AQn4b8yBcD5anLZvPWdlnFcBWVngTY04FA-LivHcQbEWjDU8r6sH-mrIw1A14qbhlw4&_nc_ht=scontent-waw1-1.xx&oh=7d3090263a8d3cd2190ecf866f77ed77&oe=5DF33348)\n",
        "* #4 - Viability validated\n",
        "![4](https://scontent-waw1-1.xx.fbcdn.net/v/t1.0-9/69841348_673688153121597_8523942475331534848_o.jpg?_nc_cat=109&_nc_oc=AQlEpE3nJkoPFdTrT17yHg2ylSPz_s7h7LnVJr4E5GcHBwy40ifWvD0WwNH4PEHftjY&_nc_ht=scontent-waw1-1.xx&oh=a214dd8f18b82c1e94b2fcb58002140c&oe=5E09DF85)\n",
        "* #5 - Completed\n",
        "![5](https://scontent-waw1-1.xx.fbcdn.net/v/t1.0-9/70350819_673929509764128_683012512890748928_o.jpg?_nc_cat=104&_nc_oc=AQloU-wfv9zchO-OVuy6Z5Vdp5F-quwmwx__EMbIIKL-YwbHUZpqxxT9YKlAgwQIXyc&_nc_ht=scontent-waw1-1.xx&oh=88c22522f75f2a3ef7d03d51131ff6c6&oe=5DEF7ED0)\n",
        "\n",
        "## Reminder of the 5 Questions of ML ?\n",
        "* Is this A or B?\n",
        "* Is this weird?\n",
        "* How much – or – How many?\n",
        "* How is this organized?\n",
        "* What should I do next?\n",
        "\n",
        "\n"
      ]
    },
    {
      "cell_type": "markdown",
      "metadata": {
        "id": "AwRG5J4h4JH0",
        "colab_type": "text"
      },
      "source": [
        "# DEMO Swiss Franc Mortgage \n",
        "## CHF_Prediction.ipynb"
      ]
    },
    {
      "cell_type": "code",
      "metadata": {
        "id": "epg6ERPE4iiB",
        "colab_type": "code",
        "colab": {}
      },
      "source": [
        "from google.colab import drive\n",
        "drive.mount('/content/drive')"
      ],
      "execution_count": 0,
      "outputs": []
    },
    {
      "cell_type": "code",
      "metadata": {
        "id": "V_fII4kq4keU",
        "colab_type": "code",
        "colab": {}
      },
      "source": [
        "################### Importing all needed modules ###################\n",
        "\n",
        "#import packages\n",
        "import pandas as pd\n",
        "import numpy as np\n",
        "from pandas.plotting import register_matplotlib_converters\n",
        "register_matplotlib_converters()\n",
        "\n",
        "import matplotlib.pyplot as plt\n",
        "from matplotlib.pylab import rcParams\n",
        "\n",
        "#importing required libraries for prediction model\n",
        "import keras\n",
        "from sklearn.preprocessing import MinMaxScaler\n",
        "from keras.models import Sequential\n",
        "from keras.layers import Dense, Dropout, LSTM\n",
        "from keras.models import load_model\n",
        "\n",
        "\n",
        "      ################### Organizational part ###################\n",
        "\n",
        "# for plotting inside pynotebook\n",
        "%matplotlib inline\n",
        "\n",
        "#setting figure size\n",
        "rcParams['figure.figsize'] = 20,10\n",
        "\n",
        "#read the file with data\n",
        "Tabela_CHF='/content/drive/My Drive/Colab Notebooks/Kurs_CHF.xlsx'\n",
        "df = pd.read_excel(Tabela_CHF, sheet_name=0, header=0)\n",
        "\n",
        "#setting index as date\n",
        "df['Data'] = pd.to_datetime(df.Data,format='%Y-%m-%d')\n",
        "df.index = df['Data']\n",
        "df.drop('Data', axis=1, inplace=True)\n",
        "\n",
        "#creating train and test sets\n",
        "dataset = df.values\n",
        "train = dataset[0:1053,:]\n",
        "valid = dataset[1053:,:]\n",
        "\n",
        "\n",
        "          ################### Prediction part ###################\n",
        "\n",
        "                  ##### Common settings for model #####\n",
        "#predicting values\n",
        "pred_len = 128\n",
        "n_epochs = 3\n",
        "l1_neurons = 128\n",
        "l2_neurons = 64\n",
        "output_layer = 1\n",
        "\n",
        "                    ##### NORMALIZATION #####\n",
        "#converting dataset into x_train and y_train\n",
        "scaler = MinMaxScaler(feature_range=(0, 1))\n",
        "scaled_data = scaler.fit_transform(dataset)\n",
        "\n",
        "x_train, y_train = [], []\n",
        "for i in range(pred_len,len(train)):\n",
        "    x_train.append(scaled_data[i-pred_len:i,0])\n",
        "    y_train.append(scaled_data[i,0])\n",
        "x_train, y_train = np.array(x_train), np.array(y_train)\n",
        "\n",
        "x_train = np.reshape(x_train, (x_train.shape[0],x_train.shape[1],1))\n",
        "\n",
        "          ################### Building Model ###################\n",
        "  \n",
        "                ##### Neural Network (LSTM) #####\n",
        "model = Sequential()\n",
        "model.add(LSTM(units=l1_neurons, return_sequences=True, input_shape=(x_train.shape[1],1)))\n",
        "model.add(LSTM(units=l2_neurons, input_shape=(l1_neurons,1)))\n",
        "model.add(Dense(output_layer))\n",
        "\n",
        "              ##### We can load model and weights from file ##### \n",
        "# model = load_model('/content/drive/My Drive/Colab Notebooks/model.h5')\n",
        "                        ##### Learning #####\n",
        "model.compile(loss='mean_squared_error', optimizer='adam')\n",
        "\n",
        "                        ##### Training #####\n",
        "model.fit(x_train, y_train, epochs=n_epochs, batch_size=1, verbose=1)\n",
        "\n",
        "              ################### Prediction ###################\n",
        "\n",
        "        ##### Predicting XX values, using past YY from the train data #####\n",
        "inputs = df[len(df) - len(valid) - pred_len:].values\n",
        "inputs = inputs.reshape(-1,1)\n",
        "inputs  = scaler.transform(inputs)\n",
        "\n",
        "X_test = []\n",
        "for i in range(pred_len,inputs.shape[0]):\n",
        "    X_test.append(inputs[i-pred_len:i,0])\n",
        "X_test = np.array(X_test)\n",
        "\n",
        "X_test = np.reshape(X_test, (X_test.shape[0],X_test.shape[1],1))\n",
        "chf_price = model.predict(X_test)\n",
        "chf_price = scaler.inverse_transform(chf_price)\n",
        "\n",
        "              ##### Saving model and weights for future use #####\n",
        "#model.save('/content/drive/My Drive/Colab Notebooks/model.h5')\n",
        "#print(\"Saved model to disk\")\n",
        "\n",
        "\n",
        "        ################### Plotting output ###################\n",
        "train = df[:1053]\n",
        "valid = df[1053:]\n",
        "valid['Predictions'] = chf_price #change it to .loc later\n",
        "plt.plot((train['CHF']), label='Real value CHF - training')\n",
        "plt.plot((valid['CHF']), label='Real value CHF - validation')\n",
        "plt.plot((valid['Predictions']), label='Predicted value of CHF')\n",
        "plt.legend(loc='best')\n",
        "\n",
        "\n",
        "                          ##### Comparing prices - show me the numbers!#####\n",
        "df_compare = valid[['CHF','Predictions']]\n",
        "#print (df_compare)"
      ],
      "execution_count": 0,
      "outputs": []
    },
    {
      "cell_type": "markdown",
      "metadata": {
        "id": "qQnBOY0M82lg",
        "colab_type": "text"
      },
      "source": [
        "![CHF](https://scontent-waw1-1.xx.fbcdn.net/v/t1.0-9/70563298_674329743057438_490752343449534464_n.jpg?_nc_cat=106&_nc_oc=AQlQNm16E9LgV3M0kWbCdiFtEFK4WiyRONRMvFTq0m8f-aMDjZvgS2ex3RUDCTLjsk4&_nc_ht=scontent-waw1-1.xx&oh=dc0eb67633de7a9e9cb67a87e9781adc&oe=5E12C086)"
      ]
    }
  ]
}